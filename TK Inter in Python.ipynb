{
 "cells": [
  {
   "cell_type": "code",
   "execution_count": 12,
   "id": "e37413c9",
   "metadata": {},
   "outputs": [],
   "source": [
    "from tkinter import *\n",
    "root=Tk()\n",
    "\n",
    "fm=Frame(root)\n",
    "fm.pack(fill =BOTH)\n",
    "\n",
    "Button(fm, text=\"Button-1\", fg=\"red\").pack()\n",
    "Button(fm, text=\"Button-2\", fg=\"green\").pack(side=LEFT)\n",
    "Button(fm, text=\"Button-3\", fg=\"blue\").pack(side=RIGHT)\n",
    "\n",
    "root.mainloop()"
   ]
  },
  {
   "cell_type": "code",
   "execution_count": null,
   "id": "e2ffe4d6",
   "metadata": {},
   "outputs": [],
   "source": []
  },
  {
   "cell_type": "code",
   "execution_count": null,
   "id": "1ab65d9e",
   "metadata": {},
   "outputs": [],
   "source": [
    "from tkinter import *\n",
    "from tkinter import ttk\n",
    "root = Tk()\n",
    "root.title(\"class\")\n",
    "root.geometry('200x150')\n",
    "root.mainloop()"
   ]
  },
  {
   "cell_type": "code",
   "execution_count": null,
   "id": "2b535dae",
   "metadata": {},
   "outputs": [],
   "source": []
  },
  {
   "cell_type": "code",
   "execution_count": null,
   "id": "71beef6d",
   "metadata": {},
   "outputs": [],
   "source": []
  },
  {
   "cell_type": "markdown",
   "id": "7bda8255",
   "metadata": {},
   "source": [
    "# Frame"
   ]
  },
  {
   "cell_type": "code",
   "execution_count": 8,
   "id": "3c0d33ff",
   "metadata": {},
   "outputs": [],
   "source": [
    "from tkinter import*\n",
    "from tkinter import ttk\n",
    "root = Tk()\n",
    "root.title(\"class1\")\n",
    "f=Frame(root,height=400,width=500,bg=\"red\",cursor=\"cross\")\n",
    "f.pack()\n",
    "root.mainloop()"
   ]
  },
  {
   "cell_type": "markdown",
   "id": "5d50ca04",
   "metadata": {},
   "source": [
    "# Button"
   ]
  },
  {
   "cell_type": "code",
   "execution_count": 9,
   "id": "06c6802f",
   "metadata": {},
   "outputs": [],
   "source": [
    "from tkinter import*\n",
    "from tkinter import ttk\n",
    "root = Tk()\n",
    "root.title(\"class1\")\n",
    "f=Frame(root,height=400,width=500,bg=\"red\",cursor=\"cross\")\n",
    "b=Button(f,text=\"new Botton\")\n",
    "f.pack()\n",
    "b.pack()\n",
    "root.mainloop()"
   ]
  },
  {
   "cell_type": "code",
   "execution_count": null,
   "id": "5565809e",
   "metadata": {},
   "outputs": [],
   "source": []
  },
  {
   "cell_type": "code",
   "execution_count": 15,
   "id": "2d73b950",
   "metadata": {},
   "outputs": [
    {
     "name": "stdout",
     "output_type": "stream",
     "text": [
      "You did\n",
      "You did\n",
      "You did\n",
      "You did\n"
     ]
    }
   ],
   "source": [
    "from tkinter import *\n",
    "from tkinter import ttk\n",
    "def buttonClick(self):\n",
    "    print(\"You did\")\n",
    "root = Tk()\n",
    "root.title(\"Python Class 2\")\n",
    "f=Frame(root,height=400,width=500,bg=\"yellow\",cursor=\"cross\")\n",
    "f.pack()\n",
    "b=Button(f,text=\"New Button\",width=15,height=5,bg=\"yellow\",fg=\"blue\",\n",
    "        activebackground=\"green\",activeforeground=\"red\")\n",
    "b.pack()\n",
    "b.bind(\"<Button-1>\",buttonClick)  #bind with left\n",
    "root.mainloop()"
   ]
  },
  {
   "cell_type": "code",
   "execution_count": null,
   "id": "5a1f4dfe",
   "metadata": {},
   "outputs": [],
   "source": []
  },
  {
   "cell_type": "code",
   "execution_count": null,
   "id": "544eec93",
   "metadata": {},
   "outputs": [],
   "source": [
    "from tkinter import *\n",
    "from tkinter import ttk\n",
    "def buttonClick(self):\n",
    "    print(\"You did\")\n",
    "root = Tk()\n",
    "root.title(\"Python Class 2\")\n",
    "f=Frame(root,height=400,width=500,bg=\"yellow\",cursor=\"cross\")\n",
    "f.pack()\n",
    "b=Button(f,text=\"New Button\",width=15,height=5,bg=\"yellow\",fg=\"blue\",\n",
    "        activebackground=\"green\",activeforeground=\"red\")\n",
    "b.pack()\n",
    "b.bind(\"<Button-1>\",buttonClick)  #bind with left\n",
    "root.mainloop()"
   ]
  },
  {
   "cell_type": "code",
   "execution_count": null,
   "id": "4afe953d",
   "metadata": {},
   "outputs": [],
   "source": []
  },
  {
   "cell_type": "markdown",
   "id": "866f1eb7",
   "metadata": {},
   "source": [
    "# Practice"
   ]
  },
  {
   "cell_type": "markdown",
   "id": "3f481f1a",
   "metadata": {},
   "source": [
    "# frame, button"
   ]
  },
  {
   "cell_type": "code",
   "execution_count": null,
   "id": "2a74c36a",
   "metadata": {},
   "outputs": [],
   "source": [
    "from tkinter import *\n",
    "root=Tk()\n",
    "\n",
    "fm=Frame(root)\n",
    "fm.pack(fill =BOTH)\n",
    "\n",
    "Button(fm, text=\"Button-1\", fg=\"red\").pack()\n",
    "Button(fm, text=\"Button-2\", fg=\"green\").pack(side=LEFT)\n",
    "Button(fm, text=\"Button-3\", fg=\"blue\").pack(side=RIGHT)\n",
    "\n",
    "root.mainloop()"
   ]
  },
  {
   "cell_type": "code",
   "execution_count": null,
   "id": "9794a24c",
   "metadata": {},
   "outputs": [],
   "source": []
  },
  {
   "cell_type": "code",
   "execution_count": null,
   "id": "d1517147",
   "metadata": {},
   "outputs": [],
   "source": [
    "from tkinter import *\n",
    "root=Tk()\n",
    "\n",
    "fm=Frame(root, bg=\"yellow\")\n",
    "fm.pack(fill =BOTH)\n",
    "root.title(\"demo\")\n",
    "Button(fm, text=\"Button-1\", fg=\"red\").pack()\n",
    "Button(fm, text=\"Button-2\", fg=\"green\").pack(side=LEFT)\n",
    "Button(fm, text=\"Button-3\", fg=\"blue\").pack(side=RIGHT)\n",
    "root.geometry('200x150')\n",
    "root.mainloop()"
   ]
  },
  {
   "cell_type": "markdown",
   "id": "95182be7",
   "metadata": {},
   "source": [
    "# Grid, lable, entry"
   ]
  },
  {
   "cell_type": "code",
   "execution_count": 21,
   "id": "5312d8a3",
   "metadata": {},
   "outputs": [],
   "source": [
    "from tkinter import *\n",
    "root=Tk()\n",
    "\n",
    "\n",
    "label_1= Label(root, text=\"UserName\")\n",
    "label_2= Label(root, text=\"Password\")\n",
    "\n",
    "label_1.grid(row=0)\n",
    "label_2.grid(row=1)\n",
    "\n",
    "entry_1=Entry(root)\n",
    "entry_2=Entry(root)\n",
    "\n",
    "entry_1.grid(row=0,column=1)\n",
    "entry_2.grid(row=1,column=1)\n",
    "\n",
    "\n",
    "root.mainloop()"
   ]
  },
  {
   "cell_type": "code",
   "execution_count": null,
   "id": "9dd30ec2",
   "metadata": {},
   "outputs": [],
   "source": []
  },
  {
   "cell_type": "code",
   "execution_count": null,
   "id": "9652619a",
   "metadata": {},
   "outputs": [],
   "source": []
  }
 ],
 "metadata": {
  "kernelspec": {
   "display_name": "Python 3",
   "language": "python",
   "name": "python3"
  },
  "language_info": {
   "codemirror_mode": {
    "name": "ipython",
    "version": 3
   },
   "file_extension": ".py",
   "mimetype": "text/x-python",
   "name": "python",
   "nbconvert_exporter": "python",
   "pygments_lexer": "ipython3",
   "version": "3.8.8"
  }
 },
 "nbformat": 4,
 "nbformat_minor": 5
}
