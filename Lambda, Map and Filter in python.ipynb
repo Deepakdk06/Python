{
 "cells": [
  {
   "cell_type": "markdown",
   "id": "e3597072",
   "metadata": {},
   "source": [
    "lambda is the part of the function and Lambda is the anonymous function"
   ]
  },
  {
   "cell_type": "code",
   "execution_count": null,
   "id": "dcd47720",
   "metadata": {},
   "outputs": [],
   "source": [
    "f=lambda x:x+1\n",
    "f(4)"
   ]
  },
  {
   "cell_type": "code",
   "execution_count": 2,
   "id": "e0bfc82c",
   "metadata": {},
   "outputs": [
    {
     "data": {
      "text/plain": [
       "9"
      ]
     },
     "execution_count": 2,
     "metadata": {},
     "output_type": "execute_result"
    }
   ],
   "source": [
    "f=lambda x,y:x+y\n",
    "f(4,5)"
   ]
  },
  {
   "cell_type": "code",
   "execution_count": 3,
   "id": "82fce0d1",
   "metadata": {},
   "outputs": [
    {
     "data": {
      "text/plain": [
       "16"
      ]
     },
     "execution_count": 3,
     "metadata": {},
     "output_type": "execute_result"
    }
   ],
   "source": [
    "f=lambda x,y,z:x+y+z\n",
    "f(4,5,7)"
   ]
  },
  {
   "cell_type": "code",
   "execution_count": 1,
   "id": "fa61ab4e",
   "metadata": {},
   "outputs": [
    {
     "data": {
      "text/plain": [
       "27"
      ]
     },
     "execution_count": 1,
     "metadata": {},
     "output_type": "execute_result"
    }
   ],
   "source": [
    "x=lambda a,b,c:a+b**2+c**2\n",
    "x(2,3,4)"
   ]
  },
  {
   "cell_type": "code",
   "execution_count": 4,
   "id": "59872338",
   "metadata": {},
   "outputs": [
    {
     "data": {
      "text/plain": [
       "[2, 3, 4, 6, 7, 8, 9, 10, 13, 16]"
      ]
     },
     "execution_count": 4,
     "metadata": {},
     "output_type": "execute_result"
    }
   ],
   "source": [
    "a=[1,2,3,5,6,7,8,9,12,15]\n",
    "map(lambda x:x+1,a)  # now will get the outpur in object formate\n",
    "list(map(lambda x:x+1,a)) # now will get in interger formate"
   ]
  },
  {
   "cell_type": "code",
   "execution_count": 7,
   "id": "ee1864d0",
   "metadata": {},
   "outputs": [
    {
     "data": {
      "text/plain": [
       "[2, 4, 6, 10, 12, 14, 16, 18, 24, 30]"
      ]
     },
     "execution_count": 7,
     "metadata": {},
     "output_type": "execute_result"
    }
   ],
   "source": [
    "a=[1,2,3,5,6,7,8,9,12,15]\n",
    "list(map(lambda x:x*2,a))"
   ]
  },
  {
   "cell_type": "code",
   "execution_count": 8,
   "id": "39a8f038",
   "metadata": {},
   "outputs": [
    {
     "data": {
      "text/plain": [
       "[1, 4, 9, 25, 36, 49, 64, 81, 144, 225]"
      ]
     },
     "execution_count": 8,
     "metadata": {},
     "output_type": "execute_result"
    }
   ],
   "source": [
    "a=[1,2,3,5,6,7,8,9,12,15]\n",
    "list(map(lambda x:x**2,a))"
   ]
  },
  {
   "cell_type": "code",
   "execution_count": 9,
   "id": "98c23bb3",
   "metadata": {},
   "outputs": [
    {
     "data": {
      "text/plain": [
       "[4, 5, 6, 8, 9]"
      ]
     },
     "execution_count": 9,
     "metadata": {},
     "output_type": "execute_result"
    }
   ],
   "source": [
    "a=[1,2,3,5,6]\n",
    "def f1(m):\n",
    "    return m+3\n",
    "list(map(f1,a))    # can use map function like this as well"
   ]
  },
  {
   "cell_type": "code",
   "execution_count": 11,
   "id": "d383e390",
   "metadata": {},
   "outputs": [
    {
     "data": {
      "text/plain": [
       "[False, True, False, False, True, False, True, False, True, False]"
      ]
     },
     "execution_count": 11,
     "metadata": {},
     "output_type": "execute_result"
    }
   ],
   "source": [
    "a=[1,2,3,5,6,7,8,9,12,15]\n",
    "list(map(lambda i:i%2==0,a))"
   ]
  },
  {
   "cell_type": "code",
   "execution_count": 12,
   "id": "60c13db8",
   "metadata": {},
   "outputs": [
    {
     "data": {
      "text/plain": [
       "{False, True}"
      ]
     },
     "execution_count": 12,
     "metadata": {},
     "output_type": "execute_result"
    }
   ],
   "source": [
    "a=[1,2,3,5,6,7,8,9,12,15]\n",
    "set(list(map(lambda i:i%2==0,a)))"
   ]
  },
  {
   "cell_type": "markdown",
   "id": "ade6f817",
   "metadata": {},
   "source": [
    "# Filter"
   ]
  },
  {
   "cell_type": "markdown",
   "id": "71059057",
   "metadata": {},
   "source": [
    "Filter\n",
    "only that number will show which is divisible by 2. filter use like condition."
   ]
  },
  {
   "cell_type": "code",
   "execution_count": 15,
   "id": "3de9bd51",
   "metadata": {},
   "outputs": [
    {
     "data": {
      "text/plain": [
       "[10, 4, 8, 14, 22]"
      ]
     },
     "execution_count": 15,
     "metadata": {},
     "output_type": "execute_result"
    }
   ],
   "source": [
    "b=[5,10,4,3,7,9,8,14,22]\n",
    "list(filter(lambda i:i%2==0,b))    "
   ]
  },
  {
   "cell_type": "code",
   "execution_count": 16,
   "id": "2121f102",
   "metadata": {},
   "outputs": [
    {
     "data": {
      "text/plain": [
       "[10, 9, 14, 22]"
      ]
     },
     "execution_count": 16,
     "metadata": {},
     "output_type": "execute_result"
    }
   ],
   "source": [
    "b=[5,10,4,3,7,9,8,14,22]\n",
    "list(filter(lambda i:i>8,b))    "
   ]
  },
  {
   "cell_type": "markdown",
   "id": "21e90454",
   "metadata": {},
   "source": [
    "# Generator"
   ]
  },
  {
   "cell_type": "code",
   "execution_count": 24,
   "id": "aedcc2a8",
   "metadata": {},
   "outputs": [
    {
     "name": "stdout",
     "output_type": "stream",
     "text": [
      "5\n"
     ]
    }
   ],
   "source": [
    "def FirstGenerator():\n",
    "    yield 5\n",
    "    yield 10\n",
    "    yield 20\n",
    "    yield 25\n",
    "FirstGenerator()\n",
    "print(next(FirstGenerator()))"
   ]
  },
  {
   "cell_type": "code",
   "execution_count": 28,
   "id": "fffea701",
   "metadata": {},
   "outputs": [
    {
     "name": "stdout",
     "output_type": "stream",
     "text": [
      "5\n",
      "10\n",
      "20\n",
      "25\n"
     ]
    }
   ],
   "source": [
    "y=FirstGenerator()\n",
    "print(y.__next__())\n",
    "print(y.__next__())\n",
    "print(y.__next__())\n",
    "print(y.__next__())"
   ]
  },
  {
   "cell_type": "code",
   "execution_count": 30,
   "id": "836f3bbc",
   "metadata": {},
   "outputs": [
    {
     "name": "stdout",
     "output_type": "stream",
     "text": [
      "5\n",
      "10\n",
      "20\n",
      "25\n"
     ]
    }
   ],
   "source": [
    "for value in FirstGenerator():\n",
    "    print(value)"
   ]
  },
  {
   "cell_type": "code",
   "execution_count": 31,
   "id": "f7b6303c",
   "metadata": {},
   "outputs": [
    {
     "name": "stdout",
     "output_type": "stream",
     "text": [
      "10\n",
      "20\n",
      "40\n",
      "50\n"
     ]
    }
   ],
   "source": [
    "for value in FirstGenerator():\n",
    "    print(value*2)"
   ]
  },
  {
   "cell_type": "code",
   "execution_count": 39,
   "id": "c4eb467e",
   "metadata": {},
   "outputs": [
    {
     "name": "stdout",
     "output_type": "stream",
     "text": [
      "2\n",
      "3\n",
      "4\n",
      "5\n",
      "6\n"
     ]
    }
   ],
   "source": [
    "def generator(x,y):\n",
    "    while(x<y):\n",
    "        yield x\n",
    "        x=x+1\n",
    "y=generator(2,8)\n",
    "\n",
    "print(y.__next__())\n",
    "print(y.__next__())\n",
    "print(y.__next__())\n",
    "print(y.__next__())\n",
    "print(y.__next__())"
   ]
  },
  {
   "cell_type": "markdown",
   "id": "a8ff9f21",
   "metadata": {},
   "source": [
    "# List Comprehensive"
   ]
  },
  {
   "cell_type": "code",
   "execution_count": 41,
   "id": "1e2d905e",
   "metadata": {},
   "outputs": [
    {
     "name": "stdout",
     "output_type": "stream",
     "text": [
      "[1, 2, 3, 4, 5, 6, 7, 8, 9]\n"
     ]
    }
   ],
   "source": [
    "x=[i for i in range(1,10)]\n",
    "print(x)"
   ]
  },
  {
   "cell_type": "code",
   "execution_count": 42,
   "id": "ce310dfe",
   "metadata": {},
   "outputs": [
    {
     "name": "stdout",
     "output_type": "stream",
     "text": [
      "[1, 2, 3, 4, 5, 6, 7, 8, 9]\n"
     ]
    }
   ],
   "source": [
    "y=[k for k in x]\n",
    "print(y)"
   ]
  },
  {
   "cell_type": "code",
   "execution_count": 44,
   "id": "e73d7bd4",
   "metadata": {},
   "outputs": [
    {
     "name": "stdout",
     "output_type": "stream",
     "text": [
      "[2, 4, 6, 8]\n"
     ]
    }
   ],
   "source": [
    " y=[x for x in range(1,10) if x%2==0]\n",
    "print(y)"
   ]
  },
  {
   "cell_type": "code",
   "execution_count": 2,
   "id": "5aae6967",
   "metadata": {},
   "outputs": [],
   "source": [
    "from tkinter import *\n",
    "from tkinter import ttk"
   ]
  },
  {
   "cell_type": "code",
   "execution_count": null,
   "id": "c5ef65f6",
   "metadata": {},
   "outputs": [],
   "source": []
  },
  {
   "cell_type": "code",
   "execution_count": null,
   "id": "a14fb98d",
   "metadata": {},
   "outputs": [],
   "source": []
  }
 ],
 "metadata": {
  "kernelspec": {
   "display_name": "Python 3",
   "language": "python",
   "name": "python3"
  },
  "language_info": {
   "codemirror_mode": {
    "name": "ipython",
    "version": 3
   },
   "file_extension": ".py",
   "mimetype": "text/x-python",
   "name": "python",
   "nbconvert_exporter": "python",
   "pygments_lexer": "ipython3",
   "version": "3.8.8"
  }
 },
 "nbformat": 4,
 "nbformat_minor": 5
}
