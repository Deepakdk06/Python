{
 "cells": [
  {
   "cell_type": "markdown",
   "id": "b6f212ea",
   "metadata": {},
   "source": [
    "# Exception"
   ]
  },
  {
   "cell_type": "markdown",
   "id": "13bf0f0c",
   "metadata": {},
   "source": [
    "An exception is a runtime error can be handled by the programmer.\n",
    "All exception are represeted as classes in Python."
   ]
  },
  {
   "cell_type": "markdown",
   "id": "65cee57d",
   "metadata": {},
   "source": [
    "# Types of Exception:-"
   ]
  },
  {
   "cell_type": "markdown",
   "id": "5a81b599",
   "metadata": {},
   "source": [
    "1) Built in Exception => Exceptions which are already in Python language."
   ]
  },
  {
   "cell_type": "markdown",
   "id": "d1f07ea9",
   "metadata": {},
   "source": [
    "2) User Defined Excpetions => A programmer can create his own exceptions, called user defined exception."
   ]
  },
  {
   "cell_type": "markdown",
   "id": "a4a43fdd",
   "metadata": {},
   "source": [
    "# Need of Exception Handling"
   ]
  },
  {
   "cell_type": "markdown",
   "id": "e79bc4ab",
   "metadata": {},
   "source": [
    "=> When an exception occurs, the program terminates suddenly.\n",
    "=> Suddenly termination of program may corrupt the program.\n",
    "=> Exception may couse data loss from the databse of a file."
   ]
  },
  {
   "cell_type": "markdown",
   "id": "61061986",
   "metadata": {},
   "source": [
    "# Exception Handling"
   ]
  },
  {
   "cell_type": "markdown",
   "id": "a11b5898",
   "metadata": {},
   "source": [
    "An exception is a Python object that represents an error. Python provides a way to handle the exception so\n",
    "that the code can be executed without any interruption.That is called exception handling"
   ]
  },
  {
   "cell_type": "markdown",
   "id": "e9eeae4f",
   "metadata": {},
   "source": [
    "Try -> The try block contains code which may couse exception."
   ]
  },
  {
   "cell_type": "markdown",
   "id": "c91ac2ab",
   "metadata": {},
   "source": [
    "Except -> The except block used to catch an exception that is raised in the try block. There can be multiple exept block for try block"
   ]
  },
  {
   "cell_type": "markdown",
   "id": "f94f6d5d",
   "metadata": {},
   "source": [
    "Else ->This block will get excuted when no exception is raised. Else bolck is excuted after try block."
   ]
  },
  {
   "cell_type": "markdown",
   "id": "1db26488",
   "metadata": {},
   "source": [
    "Finally ->This block will get excuted irrespective of whether there is and exception of not."
   ]
  },
  {
   "cell_type": "markdown",
   "id": "2599b17e",
   "metadata": {},
   "source": [
    "# Types of error in Python"
   ]
  },
  {
   "cell_type": "raw",
   "id": "ba94bde8",
   "metadata": {},
   "source": [
    "Compile-Time Error\n",
    "Runtime Error\n",
    "Logical Error"
   ]
  },
  {
   "cell_type": "markdown",
   "id": "b19f7538",
   "metadata": {},
   "source": [
    "# Compile-Time Error"
   ]
  },
  {
   "cell_type": "markdown",
   "id": "4f0e5a8b",
   "metadata": {},
   "source": [
    "Compile-Time Errors: Errors that occur when you violate the rules of writing syntax are known as Compile-Time errors."
   ]
  },
  {
   "cell_type": "code",
   "execution_count": 4,
   "id": "7ade3cd4",
   "metadata": {},
   "outputs": [
    {
     "ename": "SyntaxError",
     "evalue": "invalid syntax (<ipython-input-4-627029d25abf>, line 2)",
     "output_type": "error",
     "traceback": [
      "\u001b[1;36m  File \u001b[1;32m\"<ipython-input-4-627029d25abf>\"\u001b[1;36m, line \u001b[1;32m2\u001b[0m\n\u001b[1;33m    if(x==1)\u001b[0m\n\u001b[1;37m            ^\u001b[0m\n\u001b[1;31mSyntaxError\u001b[0m\u001b[1;31m:\u001b[0m invalid syntax\n"
     ]
    }
   ],
   "source": [
    "x=1\n",
    "if(x==1)\n",
    "    print(\"india\")"
   ]
  },
  {
   "cell_type": "markdown",
   "id": "c5b8892f",
   "metadata": {},
   "source": [
    "# Runtime Error"
   ]
  },
  {
   "cell_type": "markdown",
   "id": "a966b3d7",
   "metadata": {},
   "source": [
    "A program with a runtime error is one that passed the interpreter's syntax checks, and started to execute. However, during the execution of one of the statements in the program, an error occurred that caused the interpreter to stop executing the program and display an error message"
   ]
  },
  {
   "cell_type": "markdown",
   "id": "a478f7e3",
   "metadata": {},
   "source": [
    "When PVM cant run byte code it flags the runtime error"
   ]
  },
  {
   "cell_type": "markdown",
   "id": "fe2eeb64",
   "metadata": {},
   "source": [
    "runtime error is not detected by complier"
   ]
  },
  {
   "cell_type": "code",
   "execution_count": 5,
   "id": "13b28601",
   "metadata": {},
   "outputs": [
    {
     "data": {
      "text/plain": [
       "9"
      ]
     },
     "execution_count": 5,
     "metadata": {},
     "output_type": "execute_result"
    }
   ],
   "source": [
    "def add(x,y):\n",
    "    return x+y\n",
    "add(5,4)"
   ]
  },
  {
   "cell_type": "code",
   "execution_count": 6,
   "id": "ac2a345d",
   "metadata": {},
   "outputs": [
    {
     "ename": "TypeError",
     "evalue": "unsupported operand type(s) for +: 'int' and 'str'",
     "output_type": "error",
     "traceback": [
      "\u001b[1;31m---------------------------------------------------------------------------\u001b[0m",
      "\u001b[1;31mTypeError\u001b[0m                                 Traceback (most recent call last)",
      "\u001b[1;32m<ipython-input-6-673f4f7ace66>\u001b[0m in \u001b[0;36m<module>\u001b[1;34m\u001b[0m\n\u001b[1;32m----> 1\u001b[1;33m \u001b[0madd\u001b[0m\u001b[1;33m(\u001b[0m\u001b[1;36m4\u001b[0m\u001b[1;33m,\u001b[0m\u001b[1;34m\"d\"\u001b[0m\u001b[1;33m)\u001b[0m\u001b[1;33m\u001b[0m\u001b[1;33m\u001b[0m\u001b[0m\n\u001b[0m",
      "\u001b[1;32m<ipython-input-5-bb5e87f5ee19>\u001b[0m in \u001b[0;36madd\u001b[1;34m(x, y)\u001b[0m\n\u001b[0;32m      1\u001b[0m \u001b[1;32mdef\u001b[0m \u001b[0madd\u001b[0m\u001b[1;33m(\u001b[0m\u001b[0mx\u001b[0m\u001b[1;33m,\u001b[0m\u001b[0my\u001b[0m\u001b[1;33m)\u001b[0m\u001b[1;33m:\u001b[0m\u001b[1;33m\u001b[0m\u001b[1;33m\u001b[0m\u001b[0m\n\u001b[1;32m----> 2\u001b[1;33m     \u001b[1;32mreturn\u001b[0m \u001b[0mx\u001b[0m\u001b[1;33m+\u001b[0m\u001b[0my\u001b[0m\u001b[1;33m\u001b[0m\u001b[1;33m\u001b[0m\u001b[0m\n\u001b[0m\u001b[0;32m      3\u001b[0m \u001b[0madd\u001b[0m\u001b[1;33m(\u001b[0m\u001b[1;36m5\u001b[0m\u001b[1;33m,\u001b[0m\u001b[1;36m4\u001b[0m\u001b[1;33m)\u001b[0m\u001b[1;33m\u001b[0m\u001b[1;33m\u001b[0m\u001b[0m\n",
      "\u001b[1;31mTypeError\u001b[0m: unsupported operand type(s) for +: 'int' and 'str'"
     ]
    }
   ],
   "source": [
    "add(4,\"d\")"
   ]
  },
  {
   "cell_type": "code",
   "execution_count": 9,
   "id": "a943b614",
   "metadata": {},
   "outputs": [
    {
     "name": "stdout",
     "output_type": "stream",
     "text": [
      "8\n"
     ]
    },
    {
     "ename": "IndexError",
     "evalue": "list index out of range",
     "output_type": "error",
     "traceback": [
      "\u001b[1;31m---------------------------------------------------------------------------\u001b[0m",
      "\u001b[1;31mIndexError\u001b[0m                                Traceback (most recent call last)",
      "\u001b[1;32m<ipython-input-9-fcc953a99ed5>\u001b[0m in \u001b[0;36m<module>\u001b[1;34m\u001b[0m\n\u001b[0;32m      1\u001b[0m \u001b[0mx\u001b[0m\u001b[1;33m=\u001b[0m\u001b[1;33m[\u001b[0m\u001b[1;36m2\u001b[0m\u001b[1;33m,\u001b[0m\u001b[1;36m4\u001b[0m\u001b[1;33m,\u001b[0m\u001b[1;36m5\u001b[0m\u001b[1;33m,\u001b[0m\u001b[1;36m6\u001b[0m\u001b[1;33m,\u001b[0m\u001b[1;36m8\u001b[0m\u001b[1;33m]\u001b[0m\u001b[1;33m\u001b[0m\u001b[1;33m\u001b[0m\u001b[0m\n\u001b[0;32m      2\u001b[0m \u001b[0mprint\u001b[0m\u001b[1;33m(\u001b[0m\u001b[0mx\u001b[0m\u001b[1;33m[\u001b[0m\u001b[1;36m4\u001b[0m\u001b[1;33m]\u001b[0m\u001b[1;33m)\u001b[0m\u001b[1;33m\u001b[0m\u001b[1;33m\u001b[0m\u001b[0m\n\u001b[1;32m----> 3\u001b[1;33m \u001b[0mprint\u001b[0m\u001b[1;33m(\u001b[0m\u001b[0mx\u001b[0m\u001b[1;33m[\u001b[0m\u001b[1;36m5\u001b[0m\u001b[1;33m]\u001b[0m\u001b[1;33m)\u001b[0m\u001b[1;33m\u001b[0m\u001b[1;33m\u001b[0m\u001b[0m\n\u001b[0m",
      "\u001b[1;31mIndexError\u001b[0m: list index out of range"
     ]
    }
   ],
   "source": [
    "x=[2,4,5,6,8]\n",
    "print(x[4])\n",
    "print(x[5])"
   ]
  },
  {
   "cell_type": "markdown",
   "id": "2da7a6ec",
   "metadata": {},
   "source": [
    "# Logical Error"
   ]
  },
  {
   "cell_type": "markdown",
   "id": "64f5a446",
   "metadata": {},
   "source": [
    "it is not detected ny python complier or Python Virtual Machine(PVM)"
   ]
  },
  {
   "cell_type": "code",
   "execution_count": 10,
   "id": "85a6447e",
   "metadata": {},
   "outputs": [
    {
     "data": {
      "text/plain": [
       "2.5"
      ]
     },
     "execution_count": 10,
     "metadata": {},
     "output_type": "execute_result"
    }
   ],
   "source": [
    "def avg(x):\n",
    "    sum=0\n",
    "    for i in x:\n",
    "        sum=sum+i\n",
    "    sum=sum/len(x)\n",
    "        \n",
    "    return sum\n",
    "y=[1,2,3,4]\n",
    "avg(y)"
   ]
  },
  {
   "cell_type": "markdown",
   "id": "f5e88816",
   "metadata": {},
   "source": [
    "# RunTime Error"
   ]
  },
  {
   "cell_type": "code",
   "execution_count": 5,
   "id": "bdd08e3f",
   "metadata": {},
   "outputs": [
    {
     "name": "stdout",
     "output_type": "stream",
     "text": [
      "india\n"
     ]
    }
   ],
   "source": [
    "a=10\n",
    "b=2\n",
    "d=b/a\n",
    "print(\"india\")"
   ]
  },
  {
   "cell_type": "markdown",
   "id": "d714e92f",
   "metadata": {},
   "source": [
    "# example-1"
   ]
  },
  {
   "cell_type": "code",
   "execution_count": 15,
   "id": "a6a62013",
   "metadata": {},
   "outputs": [
    {
     "name": "stdout",
     "output_type": "stream",
     "text": [
      "Enter 2 values\n",
      "4\n",
      "0\n",
      "Division by 0 happend\n",
      "pls dont put zero\n",
      "all fine\n"
     ]
    }
   ],
   "source": [
    "try:\n",
    "    print(\"Enter 2 values\")\n",
    "    a=int(input())\n",
    "    b=int(input())\n",
    "    c=a/b\n",
    "    print(c)\n",
    "except ZeroDivisionError:\n",
    "    print(\"Division by 0 happend\")\n",
    "    print(\"pls dont put zero\")\n",
    "else:\n",
    "    print(\"india\")\n",
    "finally:\n",
    "    print(\"all fine\")"
   ]
  },
  {
   "cell_type": "markdown",
   "id": "b9205e8c",
   "metadata": {},
   "source": [
    "# example-2"
   ]
  },
  {
   "cell_type": "code",
   "execution_count": 13,
   "id": "ba4a0d4d",
   "metadata": {},
   "outputs": [
    {
     "name": "stdout",
     "output_type": "stream",
     "text": [
      "Enter the index number :6\n",
      "Pls enter the value between 0 to 5 only\n",
      "all okay\n"
     ]
    }
   ],
   "source": [
    "a=[2,5,8,3,9,7]\n",
    "try:\n",
    "    print(\"Enter the index number :\",end=\"\")\n",
    "    k=int(input())\n",
    "    print(a[k])\n",
    "except IndexError:\n",
    "    print(\"Pls enter the value between 0 to 5 only\")\n",
    "finally:\n",
    "    print(\"all okay\")\n"
   ]
  },
  {
   "cell_type": "markdown",
   "id": "6574ae0a",
   "metadata": {},
   "source": [
    "# example-3"
   ]
  },
  {
   "cell_type": "code",
   "execution_count": 14,
   "id": "e3355a1a",
   "metadata": {},
   "outputs": [
    {
     "name": "stdout",
     "output_type": "stream",
     "text": [
      "Pls enter only nuramic number\n"
     ]
    }
   ],
   "source": [
    "try:\n",
    "    a=10\n",
    "    b=\"d\"\n",
    "    print(a+b)\n",
    "except TypeError:\n",
    "    print(\"Pls enter only nuramic number\")\n",
    "else:\n",
    "    print(\"sb badhiya hai\")"
   ]
  },
  {
   "cell_type": "markdown",
   "id": "33ae01b6",
   "metadata": {},
   "source": [
    "# multi-exception"
   ]
  },
  {
   "cell_type": "code",
   "execution_count": 18,
   "id": "58196069",
   "metadata": {},
   "outputs": [],
   "source": [
    "def avg(x):\n",
    "    sum=0\n",
    "    for i in x:\n",
    "        sum=sum+i\n",
    "    avg1=sum/len(x)\n",
    "    return avg1"
   ]
  },
  {
   "cell_type": "code",
   "execution_count": 19,
   "id": "d539f4df",
   "metadata": {},
   "outputs": [
    {
     "name": "stdout",
     "output_type": "stream",
     "text": [
      "7.25\n"
     ]
    }
   ],
   "source": [
    "try:\n",
    "    x=[5,6,8,10]\n",
    "    print(avg(x))\n",
    "except ZeroDivisionError:\n",
    "    print(\"Pls don't give only empty list\")\n",
    "except TypeError:\n",
    "    print(\"Pls enter only numaric\")            "
   ]
  },
  {
   "cell_type": "code",
   "execution_count": 20,
   "id": "87aa74dc",
   "metadata": {},
   "outputs": [
    {
     "name": "stdout",
     "output_type": "stream",
     "text": [
      "Pls don't give only empty list\n"
     ]
    }
   ],
   "source": [
    "try:\n",
    "    x=[]\n",
    "    print(avg(x))\n",
    "except ZeroDivisionError:\n",
    "    print(\"Pls don't give only empty list\")\n",
    "except TypeError:\n",
    "    print(\"Pls enter only numaric\")            "
   ]
  },
  {
   "cell_type": "code",
   "execution_count": 21,
   "id": "78e136fe",
   "metadata": {},
   "outputs": [
    {
     "name": "stdout",
     "output_type": "stream",
     "text": [
      "Pls enter only numaric\n"
     ]
    }
   ],
   "source": [
    "try:\n",
    "    x=[5,6,8,10,\"d\"]\n",
    "    print(avg(x))\n",
    "except ZeroDivisionError:\n",
    "    print(\"Pls don't give only empty list\")\n",
    "except TypeError:\n",
    "    print(\"Pls enter only numaric\")            "
   ]
  },
  {
   "cell_type": "markdown",
   "id": "a1b1f910",
   "metadata": {},
   "source": [
    "# User Defined Exception"
   ]
  },
  {
   "cell_type": "code",
   "execution_count": 22,
   "id": "455fa02b",
   "metadata": {},
   "outputs": [
    {
     "name": "stdout",
     "output_type": "stream",
     "text": [
      "1 Dk\n",
      "2 Pk\n"
     ]
    }
   ],
   "source": [
    "x={1:\"Dk\",2:\"Pk\"}\n",
    "for k,v in x.items():\n",
    "    print(k,v)"
   ]
  },
  {
   "cell_type": "code",
   "execution_count": 51,
   "id": "d06def29",
   "metadata": {},
   "outputs": [],
   "source": [
    "class Myexception(Exception):\n",
    "    def __init__(self,arg):\n",
    "        self.arg=arg"
   ]
  },
  {
   "cell_type": "code",
   "execution_count": 52,
   "id": "610cff31",
   "metadata": {},
   "outputs": [],
   "source": [
    " def check(dict):\n",
    "        for k,v in dict.items():\n",
    "            print(\"Name :\",k,\"Balance\",v)\n",
    "            if(v<20000):\n",
    "                raise Myexception(\"Balance is less in act of \" +k)"
   ]
  },
  {
   "cell_type": "code",
   "execution_count": 53,
   "id": "655cdd70",
   "metadata": {},
   "outputs": [],
   "source": [
    "bank={\"deepak\":50000,\"pravin\":30000,\"mohit\":2500}"
   ]
  },
  {
   "cell_type": "code",
   "execution_count": 54,
   "id": "e44d3c1a",
   "metadata": {},
   "outputs": [
    {
     "name": "stdout",
     "output_type": "stream",
     "text": [
      "Name : deepak Balance 50000\n",
      "Name : pravin Balance 30000\n",
      "Name : mohit Balance 2500\n",
      "Balance is less in act of mohit\n"
     ]
    }
   ],
   "source": [
    "try:\n",
    "    check(bank)\n",
    "except Myexception as me:\n",
    "    print(me)"
   ]
  },
  {
   "cell_type": "code",
   "execution_count": null,
   "id": "d72911c6",
   "metadata": {},
   "outputs": [],
   "source": []
  },
  {
   "cell_type": "code",
   "execution_count": null,
   "id": "7a580f5b",
   "metadata": {},
   "outputs": [],
   "source": []
  },
  {
   "cell_type": "code",
   "execution_count": 65,
   "id": "8386b917",
   "metadata": {},
   "outputs": [
    {
     "ename": "NameError",
     "evalue": "name 'x' is not defined",
     "output_type": "error",
     "traceback": [
      "\u001b[1;31m---------------------------------------------------------------------------\u001b[0m",
      "\u001b[1;31mNameError\u001b[0m                                 Traceback (most recent call last)",
      "\u001b[1;32m<ipython-input-65-c70f1046c3c9>\u001b[0m in \u001b[0;36m<module>\u001b[1;34m\u001b[0m\n\u001b[1;32m----> 1\u001b[1;33m \u001b[1;32mimport\u001b[0m \u001b[0mmaxeven\u001b[0m\u001b[1;33m\u001b[0m\u001b[1;33m\u001b[0m\u001b[0m\n\u001b[0m",
      "\u001b[1;32m~\\Desktop\\Python\\maxeven.py\u001b[0m in \u001b[0;36m<module>\u001b[1;34m\u001b[0m\n\u001b[0;32m      7\u001b[0m \u001b[1;32mdef\u001b[0m \u001b[0mmaxeven\u001b[0m\u001b[1;33m(\u001b[0m\u001b[0mx\u001b[0m\u001b[1;33m)\u001b[0m\u001b[1;33m:\u001b[0m\u001b[1;33m\u001b[0m\u001b[1;33m\u001b[0m\u001b[0m\n\u001b[0;32m      8\u001b[0m     \u001b[0mmax\u001b[0m\u001b[1;33m=\u001b[0m\u001b[0mx\u001b[0m\u001b[1;33m[\u001b[0m\u001b[1;36m0\u001b[0m\u001b[1;33m]\u001b[0m\u001b[1;33m\u001b[0m\u001b[1;33m\u001b[0m\u001b[0m\n\u001b[1;32m----> 9\u001b[1;33m \u001b[1;32mfor\u001b[0m \u001b[0mi\u001b[0m \u001b[1;32min\u001b[0m \u001b[0mx\u001b[0m\u001b[1;33m:\u001b[0m\u001b[1;33m\u001b[0m\u001b[1;33m\u001b[0m\u001b[0m\n\u001b[0m\u001b[0;32m     10\u001b[0m     \u001b[0mk\u001b[0m\u001b[1;33m=\u001b[0m\u001b[1;36m0\u001b[0m\u001b[1;33m\u001b[0m\u001b[1;33m\u001b[0m\u001b[0m\n\u001b[0;32m     11\u001b[0m     \u001b[1;32mfor\u001b[0m \u001b[0mj\u001b[0m \u001b[1;32min\u001b[0m \u001b[0mrange\u001b[0m\u001b[1;33m(\u001b[0m\u001b[1;36m2\u001b[0m\u001b[1;33m,\u001b[0m\u001b[0mi\u001b[0m\u001b[1;33m)\u001b[0m\u001b[1;33m:\u001b[0m\u001b[1;33m\u001b[0m\u001b[1;33m\u001b[0m\u001b[0m\n",
      "\u001b[1;31mNameError\u001b[0m: name 'x' is not defined"
     ]
    }
   ],
   "source": [
    "import maxeven"
   ]
  },
  {
   "cell_type": "code",
   "execution_count": null,
   "id": "78a4a9d0",
   "metadata": {},
   "outputs": [],
   "source": []
  },
  {
   "cell_type": "code",
   "execution_count": null,
   "id": "77eaac2a",
   "metadata": {},
   "outputs": [],
   "source": []
  },
  {
   "cell_type": "code",
   "execution_count": null,
   "id": "f27f9074",
   "metadata": {},
   "outputs": [],
   "source": []
  },
  {
   "cell_type": "code",
   "execution_count": null,
   "id": "97675e62",
   "metadata": {},
   "outputs": [],
   "source": []
  }
 ],
 "metadata": {
  "kernelspec": {
   "display_name": "Python 3",
   "language": "python",
   "name": "python3"
  },
  "language_info": {
   "codemirror_mode": {
    "name": "ipython",
    "version": 3
   },
   "file_extension": ".py",
   "mimetype": "text/x-python",
   "name": "python",
   "nbconvert_exporter": "python",
   "pygments_lexer": "ipython3",
   "version": "3.8.8"
  }
 },
 "nbformat": 4,
 "nbformat_minor": 5
}
