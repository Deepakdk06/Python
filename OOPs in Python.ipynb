{
 "cells": [
  {
   "cell_type": "markdown",
   "id": "0ac3ffd6",
   "metadata": {},
   "source": []
  },
  {
   "cell_type": "code",
   "execution_count": 7,
   "id": "35d459ad",
   "metadata": {},
   "outputs": [
    {
     "name": "stdout",
     "output_type": "stream",
     "text": [
      "name Deepak\n",
      "age 22\n"
     ]
    }
   ],
   "source": [
    "class ninth_class:\n",
    "    def __init__(self,name,age):\n",
    "        self.name=name\n",
    "        self.age=age\n",
    "    def show(self):\n",
    "        print(\"name\",self.name)\n",
    "        print(\"age\",self.age)\n",
    "obj1=ninth_class(\"Deepak\",22)\n",
    "obj2=ninth_class(\"praveen\",23)\n",
    "obj3=ninth_class(\"Deepak\",23)\n",
    "obj1.show()"
   ]
  },
  {
   "cell_type": "code",
   "execution_count": null,
   "id": "e4e7f54b",
   "metadata": {},
   "outputs": [],
   "source": []
  },
  {
   "cell_type": "code",
   "execution_count": null,
   "id": "9212078d",
   "metadata": {},
   "outputs": [],
   "source": []
  },
  {
   "cell_type": "code",
   "execution_count": 8,
   "id": "e329eb02",
   "metadata": {},
   "outputs": [
    {
     "name": "stdout",
     "output_type": "stream",
     "text": [
      "2139688839008\n",
      "2139700223760\n",
      "2139700590512\n",
      "140708506315216\n"
     ]
    }
   ],
   "source": [
    "print(id(ninth_class))\n",
    "print(id(obj1))\n",
    "print(id(obj1.name))\n",
    "print(id(obj1.age))"
   ]
  },
  {
   "cell_type": "code",
   "execution_count": 9,
   "id": "25469d69",
   "metadata": {},
   "outputs": [
    {
     "name": "stdout",
     "output_type": "stream",
     "text": [
      "2139688839008\n",
      "2139700223904\n",
      "2139700590768\n",
      "140708506315248\n"
     ]
    }
   ],
   "source": [
    "print(id(ninth_class))\n",
    "print(id(obj2))\n",
    "print(id(obj2.name))\n",
    "print(id(obj2.age))"
   ]
  },
  {
   "cell_type": "code",
   "execution_count": 10,
   "id": "f3ae6222",
   "metadata": {},
   "outputs": [
    {
     "name": "stdout",
     "output_type": "stream",
     "text": [
      "2139688839008\n",
      "2139700223808\n",
      "2139700590512\n",
      "140708506315248\n"
     ]
    }
   ],
   "source": [
    "print(id(ninth_class))\n",
    "print(id(obj3))\n",
    "print(id(obj3.name))\n",
    "print(id(obj3.age))"
   ]
  },
  {
   "cell_type": "code",
   "execution_count": 44,
   "id": "d883f824",
   "metadata": {},
   "outputs": [
    {
     "name": "stdout",
     "output_type": "stream",
     "text": [
      "name deepak\n",
      "age 22\n"
     ]
    }
   ],
   "source": [
    "class deep:\n",
    "    def __init__(self,name,age):\n",
    "        self.name=name\n",
    "        self.age=age\n",
    "    def show1(self):\n",
    "        print(\"name\",self.name)\n",
    "    def show2(self):\n",
    "        print(\"age\",self.age)\n",
    "obj1=deep(\"deepak\",22)\n",
    "obj1.show1()\n",
    "obj1.show2()"
   ]
  },
  {
   "cell_type": "code",
   "execution_count": null,
   "id": "4aae0499",
   "metadata": {},
   "outputs": [],
   "source": []
  },
  {
   "cell_type": "code",
   "execution_count": 43,
   "id": "4a1ea4d1",
   "metadata": {},
   "outputs": [
    {
     "name": "stdout",
     "output_type": "stream",
     "text": [
      "30\n"
     ]
    }
   ],
   "source": [
    "class min_max:\n",
    "    def __init__(self,a,b,c):\n",
    "        self.a=a\n",
    "        self.b=b\n",
    "        self.c=c\n",
    "    def max(self):\n",
    "        print(max(self.a,self.b,self.c))\n",
    "    def min(self):\n",
    "        print(min(self.a,self.b,self.c))\n",
    "obj=min_max(20,30,7)\n",
    "obj1=min_max(4,6,20)\n",
    "obj.max()"
   ]
  },
  {
   "cell_type": "code",
   "execution_count": null,
   "id": "d2624ff5",
   "metadata": {},
   "outputs": [],
   "source": []
  },
  {
   "cell_type": "code",
   "execution_count": 8,
   "id": "aa98078e",
   "metadata": {},
   "outputs": [
    {
     "name": "stdout",
     "output_type": "stream",
     "text": [
      "name: pravin\n",
      "age: 15\n",
      "marks: 88\n",
      "very good\n"
     ]
    }
   ],
   "source": [
    "class Student:\n",
    "    def __init__(self,name,age,marks):\n",
    "        self.name=name\n",
    "        self.age=age\n",
    "        self.marks=marks\n",
    "    def info(self):\n",
    "        print(\"name:\",self.name)\n",
    "        print(\"age:\",self.age)\n",
    "        print(\"marks:\",self.marks)\n",
    "    def performance(self):\n",
    "        if(self.marks>80):\n",
    "            print(\"very good\")\n",
    "        elif(self.marks>60):\n",
    "            print(\"good\")\n",
    "        else:\n",
    "            print(\"poor\")        \n",
    "                \n",
    "deepak=Student(\"deepak\",15,90)\n",
    "pravin=Student(\"pravin\",15,88) \n",
    "mohit=Student(\"mohit\",15,88)\n",
    "deepak.info()\n",
    "deepak.performance()"
   ]
  },
  {
   "cell_type": "markdown",
   "id": "dd59e632",
   "metadata": {},
   "source": [
    "# instance variable"
   ]
  },
  {
   "cell_type": "code",
   "execution_count": 57,
   "id": "ffab0f2b",
   "metadata": {},
   "outputs": [
    {
     "name": "stdout",
     "output_type": "stream",
     "text": [
      "11\n",
      "1568192092688\n",
      "1568204216112\n",
      "140735461664880\n",
      "1568203119232\n",
      "1568203076544\n"
     ]
    }
   ],
   "source": [
    "#instance variable whose seprate copy is created for every \n",
    "\n",
    "class instance:\n",
    "    def __init__(self):\n",
    "        self.x=10\n",
    "    def modify(self):\n",
    "        self.x=self.x+1\n",
    "    def show(self):\n",
    "        print(self.x)\n",
    "    \n",
    "k=instance()\n",
    "k.modify()\n",
    "k.show()\n",
    "print(id(instance))\n",
    "print(id(k))\n",
    "print(id(k.x))\n",
    "print(id(k.show))\n",
    "print(id(k.modify))\n"
   ]
  },
  {
   "cell_type": "code",
   "execution_count": null,
   "id": "eae7e00b",
   "metadata": {},
   "outputs": [],
   "source": []
  },
  {
   "cell_type": "markdown",
   "id": "de063ce7",
   "metadata": {},
   "source": [
    "# class variable & statics variable"
   ]
  },
  {
   "cell_type": "code",
   "execution_count": 67,
   "id": "2c1e3c6e",
   "metadata": {},
   "outputs": [
    {
     "name": "stdout",
     "output_type": "stream",
     "text": [
      "11\n"
     ]
    }
   ],
   "source": [
    "#class variable whose single copy is availabe.\n",
    "class f1:\n",
    "    y=10\n",
    "    @classmethod\n",
    "    def modify(cls):\n",
    "        cls.y=cls.y+1\n",
    "    def show(self):\n",
    "        print(self.y)\n",
    "        \n",
    "        \n",
    "k1=f1()\n",
    "k1.modify()\n",
    "k1.show()"
   ]
  },
  {
   "cell_type": "markdown",
   "id": "ed3eb9ee",
   "metadata": {},
   "source": [
    "# class method"
   ]
  },
  {
   "cell_type": "code",
   "execution_count": 44,
   "id": "75bfc020",
   "metadata": {},
   "outputs": [
    {
     "name": "stdout",
     "output_type": "stream",
     "text": [
      "this car ford has 4 wheel\n"
     ]
    }
   ],
   "source": [
    "class car:\n",
    "    wheel=4\n",
    "    @classmethod\n",
    "    def k(cls,x):\n",
    "        print(\"this car\",x,\"has\",cls.wheel,\"wheel\")\n",
    "car.k(\"ford\")"
   ]
  },
  {
   "cell_type": "markdown",
   "id": "ac8bd9fd",
   "metadata": {},
   "source": [
    "# static method"
   ]
  },
  {
   "cell_type": "code",
   "execution_count": 7,
   "id": "6f69098f",
   "metadata": {},
   "outputs": [
    {
     "name": "stdout",
     "output_type": "stream",
     "text": [
      "deepak\n",
      "22\n",
      "the collage name is: xyz\n",
      "collage address is: noida\n"
     ]
    }
   ],
   "source": [
    "#static method\n",
    "class school:\n",
    "    def __init__(self,stu_name,stu_age):\n",
    "        self.stu_name=stu_name\n",
    "        self.stu_age=stu_age\n",
    "    def info(self):\n",
    "        print(self.stu_name)\n",
    "        print(self.stu_age)\n",
    "    @staticmethod\n",
    "    def collageinfo():\n",
    "        print(\"the collage name is: xyz\")\n",
    "        print(\"collage address is: noida\")\n",
    "obj=school(\"deepak\",22)\n",
    "obj.info()\n",
    "school.collageinfo()"
   ]
  },
  {
   "cell_type": "code",
   "execution_count": null,
   "id": "da2705f8",
   "metadata": {},
   "outputs": [],
   "source": []
  },
  {
   "cell_type": "code",
   "execution_count": 87,
   "id": "ed960c3f",
   "metadata": {},
   "outputs": [
    {
     "name": "stdout",
     "output_type": "stream",
     "text": [
      "Deepak\n",
      "22\n",
      "azamgarh\n",
      "director name :- Rahul mishra\n",
      "deepak\n",
      "22\n"
     ]
    }
   ],
   "source": [
    "class school:\n",
    "    director_name=\"Rahul mishra\"\n",
    "    def __init__(self,stu_name,stu_age):\n",
    "        self.stu_name=stu_name\n",
    "        self.stu_age=stu_age\n",
    "        self.village=\"azamgarh\"\n",
    "    def changevillage(self,m):\n",
    "        self.village=m\n",
    "    def info(self):\n",
    "        print(self.stu_name)\n",
    "        print(self.stu_age)\n",
    "        print(self.village)\n",
    "        print(\"director name :-\",self.director_name)\n",
    "    @classmethod\n",
    "    def change(cls,x):\n",
    "        cls.director_name=x\n",
    "    @staticmethod\n",
    "    def schoolinfo():\n",
    "        print(\"the collage name:- IFTM university\")\n",
    "        print(\"HOD name is :- Dr. Arvind shukla\")\n",
    "obj1=school(\"Deepak\",22)\n",
    "obj1.info()"
   ]
  },
  {
   "cell_type": "code",
   "execution_count": null,
   "id": "f4701039",
   "metadata": {},
   "outputs": [],
   "source": []
  },
  {
   "cell_type": "code",
   "execution_count": 56,
   "id": "5095496a",
   "metadata": {},
   "outputs": [
    {
     "name": "stdout",
     "output_type": "stream",
     "text": [
      "deepak\n",
      "22\n",
      "mau\n",
      "principle name: raj\n"
     ]
    }
   ],
   "source": [
    "obj.changevillage(\"mau\")\n",
    "obj.change(\"raj\")\n",
    "obj.info()"
   ]
  },
  {
   "cell_type": "code",
   "execution_count": null,
   "id": "3696105e",
   "metadata": {},
   "outputs": [],
   "source": []
  },
  {
   "cell_type": "code",
   "execution_count": null,
   "id": "947d5c35",
   "metadata": {},
   "outputs": [],
   "source": []
  },
  {
   "cell_type": "code",
   "execution_count": null,
   "id": "3a14fcea",
   "metadata": {},
   "outputs": [],
   "source": []
  },
  {
   "cell_type": "code",
   "execution_count": 98,
   "id": "5d6340d1",
   "metadata": {},
   "outputs": [
    {
     "name": "stdout",
     "output_type": "stream",
     "text": [
      "Deepak\n",
      "22\n",
      "azamgarh\n",
      "director name :- Dr. K.K singh\n"
     ]
    }
   ],
   "source": [
    "obj1.change(\"Dr. K.K singh\")\n",
    "obj1.info()"
   ]
  },
  {
   "cell_type": "code",
   "execution_count": 97,
   "id": "598babf3",
   "metadata": {},
   "outputs": [
    {
     "name": "stdout",
     "output_type": "stream",
     "text": [
      "name : deepak\n",
      "fee paid : 5500\n",
      "fee unpaid : 4500\n"
     ]
    }
   ],
   "source": [
    "class cetpa:\n",
    "    def __init__(self,name,fee):\n",
    "        self.name=name\n",
    "        self.fee=fee\n",
    "    def stuinfo(self):\n",
    "        print(\"name :\",self.name)\n",
    "        print(\"fee paid :\",self.fee)\n",
    "        print(\"fee unpaid :\",10000-self.fee)\n",
    "    @staticmethod\n",
    "    def cetpainfo():\n",
    "        print(\"new batch will be start tomorrow at 2pm\")\n",
    "deepak=cetpa(\"deepak\",5500)\n",
    "deepak.stuinfo()"
   ]
  },
  {
   "cell_type": "code",
   "execution_count": 4,
   "id": "9fd05f6d",
   "metadata": {},
   "outputs": [
    {
     "name": "stdout",
     "output_type": "stream",
     "text": [
      "name Deepak\n",
      "age 22\n",
      "fee paid 7000\n",
      "fee unpaid 3000\n",
      "new batch will be start from tomorrow at 3pm\n"
     ]
    }
   ],
   "source": [
    "class cetpa:\n",
    "    def __init__(self,name,age,fee):\n",
    "        self.name=name\n",
    "        self.age=age\n",
    "        self.fee=fee\n",
    "    def stuinfo(self):\n",
    "        print(\"name\",self.name)\n",
    "        print(\"age\",self.age)\n",
    "        print(\"fee paid\",self.fee)\n",
    "        print(\"fee unpaid\",10000-self.fee)\n",
    "    @staticmethod\n",
    "    def cetpainfo():\n",
    "        print(\"new batch will be start from tomorrow at 3pm\")\n",
    "obj=cetpa(\"Deepak\",22,7000)\n",
    "obj.stuinfo()\n",
    "obj.cetpainfo()                    "
   ]
  },
  {
   "cell_type": "markdown",
   "id": "f386ddfb",
   "metadata": {},
   "source": [
    "# Inner & Nested class"
   ]
  },
  {
   "cell_type": "markdown",
   "id": "79f56f9d",
   "metadata": {},
   "source": [
    "A class defined in another class is known as inner class or nested class. \n",
    "If an object is created using child class means inner class then the object can also be used by parent class or root class. \n",
    "A parent class can have one or more inner class but generally inner classes are avoided."
   ]
  },
  {
   "cell_type": "code",
   "execution_count": 104,
   "id": "eed9252f",
   "metadata": {},
   "outputs": [
    {
     "name": "stdout",
     "output_type": "stream",
     "text": [
      "deepak\n",
      "22\n",
      "DOB=1999/15/7\n"
     ]
    }
   ],
   "source": [
    "#Inner class\n",
    "class student:\n",
    "    def __init__(self):\n",
    "        self.name=\"deepak\"\n",
    "        self.age=22\n",
    "    def show(self):\n",
    "        print(self.name)\n",
    "        print(self.age)\n",
    "    class dob:\n",
    "        def __init__(self):\n",
    "            self.dd=15\n",
    "            self.mm=7\n",
    "            self.yy=1999\n",
    "        def show(self):\n",
    "            print(\"DOB={}/{}/{}\".format(self.yy,self.dd,self.mm))\n",
    "deepak=student()\n",
    "deepak.show()\n",
    "deepak1=student.dob()\n",
    "deepak1.show()"
   ]
  },
  {
   "cell_type": "code",
   "execution_count": 115,
   "id": "07724667",
   "metadata": {},
   "outputs": [
    {
     "name": "stdout",
     "output_type": "stream",
     "text": [
      "deepak\n",
      "22\n",
      "Mr. Anil\n"
     ]
    }
   ],
   "source": [
    "class person:\n",
    "    def __init__(self,name,age):\n",
    "        self.name=name\n",
    "        self.age=age\n",
    "    def show(self):\n",
    "        print(self.name)\n",
    "        print(self.age)\n",
    "    class person1:\n",
    "        def __init__(self,Fname):\n",
    "            self.Fname=Fname\n",
    "        def show(self):\n",
    "            print(self.Fname)\n",
    "obj=person(\"deepak\",22)\n",
    "obj.show()\n",
    "obj1=person.person1(\"Mr. Anil\")\n",
    "obj1.show()"
   ]
  },
  {
   "cell_type": "code",
   "execution_count": 127,
   "id": "49d81f12",
   "metadata": {},
   "outputs": [
    {
     "name": "stdout",
     "output_type": "stream",
     "text": [
      "deepak\n",
      "22\n",
      "mr. Anil\n",
      "mrs. Savitree\n",
      "76.83\n"
     ]
    }
   ],
   "source": [
    "class student:\n",
    "    def __init__(self,name,age,Fname,Mname,marks):\n",
    "        self.name=name\n",
    "        self.age=age\n",
    "        self.Fname=Fname\n",
    "        self.Mname=Mname\n",
    "        self.marks=marks\n",
    "    def stuinfo(self):\n",
    "        print(self.name)\n",
    "        print(self.age)\n",
    "    def parentsinfo(self):\n",
    "        print(self.Fname)\n",
    "        print(self.Mname)\n",
    "    def stu_performance(self):\n",
    "        per=(self.marks/600)*100\n",
    "        per=round(per,2)\n",
    "        print(per)\n",
    "obj=student(\"deepak\",22,\"mr. Anil\",\"mrs. Savitree\",461)\n",
    "obj.stuinfo()\n",
    "obj.parentsinfo()\n",
    "obj.stu_performance()\n",
    "        "
   ]
  },
  {
   "cell_type": "markdown",
   "id": "7bc4536f",
   "metadata": {},
   "source": [
    "# Inheritance"
   ]
  },
  {
   "cell_type": "code",
   "execution_count": 144,
   "id": "9147c4cd",
   "metadata": {},
   "outputs": [
    {
     "name": "stdout",
     "output_type": "stream",
     "text": [
      "india\n",
      "deepak\n",
      "welcome\n"
     ]
    }
   ],
   "source": [
    "#Inheritance\n",
    "class a:\n",
    "    def __init__(self):\n",
    "        self.name=\"deepak\"\n",
    "    def displayA(self):\n",
    "        print(\"india\")\n",
    "        print(self.name)\n",
    "class b(a):\n",
    "    def displayB(self):\n",
    "        print(\"welcome\")\n",
    "obj=b()\n",
    "obj.displayA()\n",
    "obj.displayB()"
   ]
  },
  {
   "cell_type": "code",
   "execution_count": 140,
   "id": "ddeae13f",
   "metadata": {},
   "outputs": [
    {
     "name": "stdout",
     "output_type": "stream",
     "text": [
      "deepak\n"
     ]
    }
   ],
   "source": [
    "class dk:\n",
    "    def __init__(self):\n",
    "        self.name=\"deepak\"\n",
    "    def show(self):\n",
    "        print(self.name)\n",
    "class pk(dk):\n",
    "    pass\n",
    "obj=pk()\n",
    "obj.show()"
   ]
  },
  {
   "cell_type": "code",
   "execution_count": 145,
   "id": "55b48910",
   "metadata": {},
   "outputs": [
    {
     "name": "stdout",
     "output_type": "stream",
     "text": [
      "10000\n",
      "30000\n"
     ]
    }
   ],
   "source": [
    "#write a program to calculate A in B class by using inheritance\n",
    "class A:\n",
    "    def __init__(self):\n",
    "        self.x=10000\n",
    "    def display1(self):\n",
    "        print(self.x)\n",
    "class B(A):\n",
    "    def display2(self):\n",
    "        print(self.x+20000)\n",
    "obj=B()\n",
    "obj.display1()\n",
    "obj.display2()"
   ]
  },
  {
   "cell_type": "code",
   "execution_count": 154,
   "id": "498cc97a",
   "metadata": {},
   "outputs": [
    {
     "name": "stdout",
     "output_type": "stream",
     "text": [
      "atmakumar\n",
      "35\n",
      "Deepak\n",
      "22\n",
      "python\n"
     ]
    }
   ],
   "source": [
    "#write a program to print teacher's details and student details by using the setter and getter\n",
    "\n",
    "class teacher:\n",
    "    def setname(self,name):\n",
    "        self.name=name\n",
    "    def setage(self,age):\n",
    "        self.age=age\n",
    "    def getname(self):\n",
    "        print(self.name)\n",
    "    def getage(self):\n",
    "        print(self.age)\n",
    "class student(teacher):\n",
    "    def setclassno(self,class_no):\n",
    "        self.class_no=class_no\n",
    "    def getclassno(self):\n",
    "        print(self.class_no)\n",
    "t=teacher()\n",
    "t.setname(\"atmakumar\")\n",
    "t.setage(35)\n",
    "t.getname()\n",
    "t.getage()\n",
    "\n",
    "s=student()\n",
    "s.setname(\"Deepak\")\n",
    "s.setage(22)\n",
    "s.setclassno(\"python\")\n",
    "s.getname()\n",
    "s.getage()\n",
    "s.getclassno()"
   ]
  },
  {
   "cell_type": "code",
   "execution_count": 168,
   "id": "563040cc",
   "metadata": {},
   "outputs": [
    {
     "name": "stdout",
     "output_type": "stream",
     "text": [
      "User details:\n",
      "pravin\n",
      "23\n",
      "123456789\n",
      "azamgarh\n",
      "\n",
      "\n",
      "Employee details:\n",
      "deepak\n",
      "22\n",
      "709452\n"
     ]
    }
   ],
   "source": [
    "#write a program to print bank emp detials(name,age) and user details(name,age,account no, address) using getter setter\n",
    "\n",
    "class user:\n",
    "    def setname(self,name):\n",
    "        self.name=name\n",
    "    def setage(self,age):\n",
    "        self.age=age\n",
    "    def setacno(self,acount_no):\n",
    "        self.acount_no=acount_no\n",
    "    def setadd(self,address):\n",
    "        self.address=address\n",
    "    def getname(self):\n",
    "        print(self.name)\n",
    "    def getage(self):\n",
    "        print(self.age)\n",
    "    def getacno(self):\n",
    "        print(self.acount_no)\n",
    "    def getadd(self):\n",
    "        print(self.address)\n",
    "class employee(user):\n",
    "    def setempid(self,empid):\n",
    "        self.empid=empid\n",
    "    def getempid(self):\n",
    "        print(self.empid)\n",
    "u=user()\n",
    "u.setname(\"pravin\")\n",
    "u.setage(23)\n",
    "u.setacno(123456789)\n",
    "u.setadd(\"azamgarh\")\n",
    "print(\"User details:\")\n",
    "u.getname()\n",
    "u.getage()\n",
    "u.getacno()\n",
    "u.getadd()\n",
    "print(\"\\n\")\n",
    "em=employee()\n",
    "em.setname(\"deepak\")\n",
    "em.setage(22)\n",
    "em.setempid(709452)\n",
    "print(\"Employee details:\")\n",
    "em.getname()\n",
    "em.getage()\n",
    "em.getempid()"
   ]
  },
  {
   "cell_type": "code",
   "execution_count": 4,
   "id": "2c00af51",
   "metadata": {},
   "outputs": [
    {
     "name": "stdout",
     "output_type": "stream",
     "text": [
      "india hello\n",
      "india hello\n"
     ]
    }
   ],
   "source": [
    "#method override\n",
    "class A:\n",
    "    def __init__(self):\n",
    "        self.x=\"hello\"\n",
    "    def show(self):    \n",
    "        print(self.x)\n",
    "class B(A):\n",
    "    def show(self):\n",
    "        print(\"india\",self.x)\n",
    "obj=B()\n",
    "obj.show()\n",
    "obj.show()"
   ]
  },
  {
   "cell_type": "code",
   "execution_count": null,
   "id": "341f31cc",
   "metadata": {},
   "outputs": [],
   "source": []
  },
  {
   "cell_type": "code",
   "execution_count": null,
   "id": "d45846f8",
   "metadata": {},
   "outputs": [],
   "source": []
  },
  {
   "cell_type": "code",
   "execution_count": 10,
   "id": "d13a6844",
   "metadata": {},
   "outputs": [
    {
     "name": "stdout",
     "output_type": "stream",
     "text": [
      "Not Possible\n"
     ]
    }
   ],
   "source": [
    "x=630\n",
    "y=0\n",
    "k=0\n",
    "while(y!=x):\n",
    "    y=y+5**k\n",
    "    k=k+1\n",
    "    if(y>x):\n",
    "        print(\"Not Possible\")\n",
    "        break\n",
    "if(y==x):\n",
    "    print(\"Its Possible\")\n"
   ]
  },
  {
   "cell_type": "code",
   "execution_count": null,
   "id": "b250d0b6",
   "metadata": {},
   "outputs": [],
   "source": []
  },
  {
   "cell_type": "code",
   "execution_count": 1,
   "id": "e7db0a97",
   "metadata": {},
   "outputs": [
    {
     "name": "stdout",
     "output_type": "stream",
     "text": [
      "It foloows the Rule\n"
     ]
    }
   ],
   "source": [
    "x=484377\n",
    "y=0\n",
    "y1=5\n",
    "a=1\n",
    "powr=[]\n",
    "while(x>5):\n",
    "    y1=5\n",
    "    a=1\n",
    "    while(x>=y1):\n",
    "        y1=5**a\n",
    "        #print(y1)\n",
    "        #print(a)\n",
    "        a=a+1\n",
    "    if(x==5) and (x==6):\n",
    "        powr.append(a-1)\n",
    "    else:\n",
    "        powr.append(a-2)\n",
    "    y1=5**(a-2)\n",
    "    x=x-y1\n",
    "    #print(x)\n",
    "if(len(powr)==len(set(powr))):\n",
    "    print(\"It foloows the Rule\")\n",
    "else:\n",
    "    print(\"It does not follow the rule\")"
   ]
  },
  {
   "cell_type": "code",
   "execution_count": 14,
   "id": "812fa09e",
   "metadata": {},
   "outputs": [
    {
     "name": "stdout",
     "output_type": "stream",
     "text": [
      "22\n",
      "deepak\n"
     ]
    }
   ],
   "source": [
    "class k:\n",
    "    def __init__(self,name):\n",
    "        self.name=name\n",
    "    def show(self):\n",
    "        print(self.name)\n",
    "class k1(k):\n",
    "    def __init__(self,name,age):\n",
    "        super().__init__(name)\n",
    "        self.age=age\n",
    "    def show(self):\n",
    "        print(self.age)\n",
    "        print(self.name)\n",
    "obj=k1(\"deepak\",22)\n",
    "obj.show()\n",
    "        "
   ]
  },
  {
   "cell_type": "code",
   "execution_count": null,
   "id": "3fe0e07f",
   "metadata": {},
   "outputs": [],
   "source": [
    "#Multiple"
   ]
  },
  {
   "cell_type": "code",
   "execution_count": null,
   "id": "41e56a27",
   "metadata": {},
   "outputs": [],
   "source": [
    "#write a python program to make a banking system. the bank class has all fixe variable"
   ]
  },
  {
   "cell_type": "code",
   "execution_count": 3,
   "id": "9e9c6129",
   "metadata": {},
   "outputs": [
    {
     "name": "stdout",
     "output_type": "stream",
     "text": [
      "deepak\n",
      "22\n"
     ]
    }
   ],
   "source": [
    "#super method\n",
    "class parents:\n",
    "    def __init__(self,name):\n",
    "        self.name=name\n",
    "    def show(self):\n",
    "        print(self.name)\n",
    "class child(parents):\n",
    "    def __init__(self,name,age):\n",
    "        super().__init__(name)\n",
    "        self.age=age\n",
    "    def show(self):\n",
    "        print(self.name)\n",
    "        print(self.age)\n",
    "obj=child(\"deepak\",22)\n",
    "obj.show()\n"
   ]
  },
  {
   "cell_type": "code",
   "execution_count": 1,
   "id": "2c8f36be",
   "metadata": {},
   "outputs": [
    {
     "name": "stdout",
     "output_type": "stream",
     "text": [
      "deepak\n",
      "23\n"
     ]
    }
   ],
   "source": [
    "# Multiple inheritance\n",
    "class p1:\n",
    "    def __init__(self,name,age):\n",
    "        self.name=name\n",
    "        self.age=age\n",
    "    def show(self):\n",
    "        print(self.name)\n",
    "        print(self.age)\n",
    "class p2:\n",
    "    def __init__(self,name):\n",
    "        self.name=name\n",
    "    def show(self):\n",
    "        print(self.name)\n",
    "class child(p1,p2):\n",
    "    pass\n",
    "obj=child(\"deepak\",23)\n",
    "obj.show()"
   ]
  },
  {
   "cell_type": "code",
   "execution_count": 10,
   "id": "8ebdee17",
   "metadata": {},
   "outputs": [
    {
     "name": "stdout",
     "output_type": "stream",
     "text": [
      "deep\n",
      "22\n",
      "12345\n",
      "savitri\n"
     ]
    }
   ],
   "source": [
    "class p1:\n",
    "    def __init__(self,name,age):\n",
    "        self.name=name\n",
    "        self.age=age\n",
    "    def show(self):\n",
    "        print(self.name)\n",
    "        print(self.age)\n",
    "class p2:\n",
    "    def __init__(self,name):\n",
    "        self.name=name\n",
    "    def show(self):\n",
    "        print(self.name)\n",
    "class child(p1,p2):\n",
    "    def __init__(self,name,age,id,Mname):\n",
    "        self.id=id\n",
    "        self.Mname=Mname\n",
    "        super().__init__(name,age)\n",
    "    def show(self):\n",
    "        print(self.name)\n",
    "        print(self.age)\n",
    "        print(self.id)\n",
    "        print(self.Mname)\n",
    "obj=child(\"deep\",22,12345,\"savitri\")\n",
    "obj.show()"
   ]
  },
  {
   "cell_type": "code",
   "execution_count": null,
   "id": "63a3bf57",
   "metadata": {},
   "outputs": [],
   "source": [
    "#Here we will take data from P1,P2 class in child calss by using the constructor in child class\n",
    "class p1:\n",
    "    def __init__(self,name,age):\n",
    "        self.name=name\n",
    "        self.age=age\n",
    "    def show(self):\n",
    "        print(self.name)\n",
    "        print(self.age)\n",
    "class p2:\n",
    "    def __init__(self,Mname):\n",
    "        self.Mname=Mname\n",
    "    def show(self):\n",
    "        print(self.Mname)\n",
    "class child(p1,p2):\n",
    "    def __init__(self,name,age,id,Mname):\n",
    "        self.id=id\n",
    "        p1.__init__(self,name,age)\n",
    "        p2.__init__(self,Mname)\n",
    "    def show(self):\n",
    "        print(self.name)\n",
    "        print(self.age)\n",
    "        print(self.id)\n",
    "        print(self.Mname)\n",
    "obj1=child(\"deepak\",22,709452,\"savitri\")\n",
    "obj1.show()"
   ]
  },
  {
   "cell_type": "code",
   "execution_count": null,
   "id": "7d5f921a",
   "metadata": {},
   "outputs": [],
   "source": []
  },
  {
   "cell_type": "code",
   "execution_count": 33,
   "id": "5932ff62",
   "metadata": {},
   "outputs": [
    {
     "name": "stdout",
     "output_type": "stream",
     "text": [
      "3 max repeat times: 6\n"
     ]
    }
   ],
   "source": [
    "x=[3,9,3,10,11,3,10,6,10,3,4,3,10,12,22,8,9,6,3]\n",
    "y={}\n",
    "for i in x:\n",
    "    k=0\n",
    "    for j in x:\n",
    "        if(i==j):\n",
    "            k=k+1\n",
    "    y[i]=k\n",
    "#print(max(y,key=y.get))\n",
    "m=max(y,key=y.get)\n",
    "print(m,\"max repeat times:\",y.get(m))"
   ]
  },
  {
   "cell_type": "code",
   "execution_count": null,
   "id": "340055eb",
   "metadata": {},
   "outputs": [],
   "source": [
    "neuram\n",
    "single neuram\n",
    "multiple neuram"
   ]
  },
  {
   "cell_type": "code",
   "execution_count": null,
   "id": "2d34298a",
   "metadata": {},
   "outputs": [],
   "source": [
    "gssam4@gmail.com\n",
    "Lenovo@15"
   ]
  },
  {
   "cell_type": "markdown",
   "id": "e98a1229",
   "metadata": {},
   "source": [
    "# Polymorphism"
   ]
  },
  {
   "cell_type": "markdown",
   "id": "72d5453b",
   "metadata": {},
   "source": [
    "Types of Polymorphism\n",
    "1) Duck typing\n",
    "2) Method Overloading\n",
    "3) Operator Overloading\n",
    "4) Method overrinding"
   ]
  },
  {
   "cell_type": "code",
   "execution_count": 2,
   "id": "aea4a3c8",
   "metadata": {},
   "outputs": [
    {
     "name": "stdout",
     "output_type": "stream",
     "text": [
      "<class 'int'>\n",
      "<class 'str'>\n"
     ]
    }
   ],
   "source": [
    "#Duck typing\n",
    "x=4\n",
    "print(type(x))\n",
    "x=\"deep\"\n",
    "print(type(x))"
   ]
  },
  {
   "cell_type": "code",
   "execution_count": 7,
   "id": "8b7bab6e",
   "metadata": {},
   "outputs": [
    {
     "name": "stdout",
     "output_type": "stream",
     "text": [
      "meow\n",
      "Qack\n",
      "talk\n"
     ]
    }
   ],
   "source": [
    "class Duck:\n",
    "    def sound(self):\n",
    "        print(\"Qack\")\n",
    "class cat:\n",
    "    def sound(self):\n",
    "        print(\"meow\")\n",
    "class human:\n",
    "    def sound(self):\n",
    "        print(\"talk\")\n",
    "class test:\n",
    "    def invoke(self,obj):\n",
    "        obj.sound()\n",
    "\n",
    "\n",
    "obj=cat()\n",
    "t.invoke(obj)\n",
    "\n",
    "obj=Duck()\n",
    "t.invoke(obj)\n",
    "\n",
    "obj=human()\n",
    "t.invoke(obj)"
   ]
  },
  {
   "cell_type": "markdown",
   "id": "c7a2d97e",
   "metadata": {},
   "source": [
    "#Operator Overloading"
   ]
  },
  {
   "cell_type": "code",
   "execution_count": 1,
   "id": "5bdae138",
   "metadata": {},
   "outputs": [
    {
     "name": "stdout",
     "output_type": "stream",
     "text": [
      "25\n",
      "Deepak Kumar\n"
     ]
    }
   ],
   "source": [
    "x=10\n",
    "y=15\n",
    "print(x+y)\n",
    "x=\"Deepak\"\n",
    "y=\" Kumar\"\n",
    "print(x+y)"
   ]
  },
  {
   "cell_type": "markdown",
   "id": "85b923d9",
   "metadata": {},
   "source": [
    "#Method Overloading"
   ]
  },
  {
   "cell_type": "code",
   "execution_count": 6,
   "id": "a76861fc",
   "metadata": {},
   "outputs": [
    {
     "data": {
      "text/plain": [
       "40"
      ]
     },
     "execution_count": 6,
     "metadata": {},
     "output_type": "execute_result"
    }
   ],
   "source": [
    "def f1(x=None,y=None,z=None):\n",
    "    if(x!=None) and (y!=None) and (z!=None):\n",
    "        return x+y+z\n",
    "    elif(x!=None) and (y!=None):\n",
    "        return x+y\n",
    "    elif(x!=None) and (y!=None):\n",
    "        return x+z\n",
    "f1(5,6)   \n",
    "f1(10,25,5)"
   ]
  },
  {
   "cell_type": "code",
   "execution_count": null,
   "id": "2a8d2d22",
   "metadata": {},
   "outputs": [],
   "source": [
    "Method Overriding"
   ]
  },
  {
   "cell_type": "code",
   "execution_count": 18,
   "id": "fd8ce554",
   "metadata": {},
   "outputs": [
    {
     "name": "stdout",
     "output_type": "stream",
     "text": [
      "Course : Data Science\n"
     ]
    }
   ],
   "source": [
    "class test:\n",
    "    def __init__(self,name,age,course):\n",
    "        self.name=name\n",
    "        self.age=age\n",
    "        self.course=course\n",
    "    def show(self):\n",
    "        print(\"name :\",self.name)\n",
    "        print(\"age :\",self.age)\n",
    "class test2(test):\n",
    "    def show(self):\n",
    "        print(\"Course :\",self.course)\n",
    "obj=test2(\"deepak\",22,\"Data Science\")\n",
    "obj.show()\n"
   ]
  }
 ],
 "metadata": {
  "kernelspec": {
   "display_name": "Python 3",
   "language": "python",
   "name": "python3"
  },
  "language_info": {
   "codemirror_mode": {
    "name": "ipython",
    "version": 3
   },
   "file_extension": ".py",
   "mimetype": "text/x-python",
   "name": "python",
   "nbconvert_exporter": "python",
   "pygments_lexer": "ipython3",
   "version": "3.8.8"
  }
 },
 "nbformat": 4,
 "nbformat_minor": 5
}
