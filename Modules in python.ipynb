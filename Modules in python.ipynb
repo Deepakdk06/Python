{
 "cells": [
  {
   "cell_type": "markdown",
   "id": "14107579",
   "metadata": {},
   "source": [
    "# Time, Ctime, Localtime"
   ]
  },
  {
   "cell_type": "code",
   "execution_count": 38,
   "id": "756aa98d",
   "metadata": {},
   "outputs": [
    {
     "name": "stdout",
     "output_type": "stream",
     "text": [
      "1640717266.904343\n",
      "Wed Dec 29 00:17:46 2021\n",
      "<built-in function ctime>\n"
     ]
    }
   ],
   "source": [
    "from time import time, ctime, localtime\n",
    "sec=time()    # time module used to check the current dat seconds\n",
    "print(sec)\n",
    "\n",
    "et=ctime(sec)  # ctime is used to check the day, date,year,time\n",
    "print(et)\n",
    "\n",
    "print(ctime)\n"
   ]
  },
  {
   "cell_type": "code",
   "execution_count": 12,
   "id": "ef89a1d4",
   "metadata": {},
   "outputs": [
    {
     "name": "stdout",
     "output_type": "stream",
     "text": [
      "time.struct_time(tm_year=2021, tm_mon=12, tm_mday=28, tm_hour=23, tm_min=48, tm_sec=20, tm_wday=1, tm_yday=362, tm_isdst=0)\n",
      "2021\n"
     ]
    }
   ],
   "source": [
    "stobj=localtime() # it is uset to check current all as in output\n",
    "print(stobj)\n",
    "print(stobj.tm_year)"
   ]
  },
  {
   "cell_type": "code",
   "execution_count": 13,
   "id": "941b1deb",
   "metadata": {},
   "outputs": [
    {
     "name": "stdout",
     "output_type": "stream",
     "text": [
      "Year: 2021\n",
      "Month: 12\n",
      "Date: 28\n",
      "Hour: 23\n",
      "Minute: 50\n"
     ]
    }
   ],
   "source": [
    "stobj=localtime()\n",
    "print(\"Year:\", stobj.tm_year)\n",
    "print(\"Month:\", stobj.tm_mon)\n",
    "print(\"Date:\", stobj.tm_mday)\n",
    "print(\"Hour:\", stobj.tm_hour)\n",
    "print(\"Minute:\", stobj.tm_min)"
   ]
  },
  {
   "cell_type": "code",
   "execution_count": 15,
   "id": "189ba104",
   "metadata": {},
   "outputs": [
    {
     "name": "stdout",
     "output_type": "stream",
     "text": [
      "Date : 28\n",
      "month : 12\n",
      "year : 2021\n"
     ]
    }
   ],
   "source": [
    "stobj=localtime()\n",
    "print(\"Date :\",stobj.tm_mday)\n",
    "print(\"month :\",stobj.tm_mon)\n",
    "print(\"year :\",stobj.tm_year)\n"
   ]
  },
  {
   "cell_type": "code",
   "execution_count": 17,
   "id": "e9e0c1ef",
   "metadata": {},
   "outputs": [
    {
     "name": "stdout",
     "output_type": "stream",
     "text": [
      "28/12/2021\n"
     ]
    }
   ],
   "source": [
    "stobj=localtime()\n",
    "print(stobj.tm_mday,end=\"/\")\n",
    "print(stobj.tm_mon,end=\"/\")\n",
    "print(stobj.tm_year)"
   ]
  },
  {
   "cell_type": "code",
   "execution_count": 19,
   "id": "d8e25c91",
   "metadata": {},
   "outputs": [
    {
     "name": "stdout",
     "output_type": "stream",
     "text": [
      "23:57:25\n"
     ]
    }
   ],
   "source": [
    "stobj=localtime()\n",
    "print(stobj.tm_hour,end=\":\")\n",
    "print(stobj.tm_min,end=\":\")\n",
    "print(stobj.tm_sec)"
   ]
  },
  {
   "cell_type": "markdown",
   "id": "98da33a6",
   "metadata": {},
   "source": [
    "# Calendar"
   ]
  },
  {
   "cell_type": "code",
   "execution_count": 40,
   "id": "2b9ae002",
   "metadata": {},
   "outputs": [],
   "source": [
    "import calendar"
   ]
  },
  {
   "cell_type": "code",
   "execution_count": 29,
   "id": "9e7abccc",
   "metadata": {},
   "outputs": [
    {
     "name": "stdout",
     "output_type": "stream",
     "text": [
      "   December 2021\n",
      "Mo Tu We Th Fr Sa Su\n",
      "       1  2  3  4  5\n",
      " 6  7  8  9 10 11 12\n",
      "13 14 15 16 17 18 19\n",
      "20 21 22 23 24 25 26\n",
      "27 28 29 30 31\n",
      "\n"
     ]
    }
   ],
   "source": [
    "print(calendar.month(2021,12)) # to check the calendar of month from year"
   ]
  },
  {
   "cell_type": "code",
   "execution_count": 28,
   "id": "92699e79",
   "metadata": {},
   "outputs": [
    {
     "name": "stdout",
     "output_type": "stream",
     "text": [
      "                                  2021\n",
      "\n",
      "      January                   February                   March\n",
      "Mo Tu We Th Fr Sa Su      Mo Tu We Th Fr Sa Su      Mo Tu We Th Fr Sa Su\n",
      "             1  2  3       1  2  3  4  5  6  7       1  2  3  4  5  6  7\n",
      " 4  5  6  7  8  9 10       8  9 10 11 12 13 14       8  9 10 11 12 13 14\n",
      "11 12 13 14 15 16 17      15 16 17 18 19 20 21      15 16 17 18 19 20 21\n",
      "18 19 20 21 22 23 24      22 23 24 25 26 27 28      22 23 24 25 26 27 28\n",
      "25 26 27 28 29 30 31                                29 30 31\n",
      "\n",
      "       April                      May                       June\n",
      "Mo Tu We Th Fr Sa Su      Mo Tu We Th Fr Sa Su      Mo Tu We Th Fr Sa Su\n",
      "          1  2  3  4                      1  2          1  2  3  4  5  6\n",
      " 5  6  7  8  9 10 11       3  4  5  6  7  8  9       7  8  9 10 11 12 13\n",
      "12 13 14 15 16 17 18      10 11 12 13 14 15 16      14 15 16 17 18 19 20\n",
      "19 20 21 22 23 24 25      17 18 19 20 21 22 23      21 22 23 24 25 26 27\n",
      "26 27 28 29 30            24 25 26 27 28 29 30      28 29 30\n",
      "                          31\n",
      "\n",
      "        July                     August                  September\n",
      "Mo Tu We Th Fr Sa Su      Mo Tu We Th Fr Sa Su      Mo Tu We Th Fr Sa Su\n",
      "          1  2  3  4                         1             1  2  3  4  5\n",
      " 5  6  7  8  9 10 11       2  3  4  5  6  7  8       6  7  8  9 10 11 12\n",
      "12 13 14 15 16 17 18       9 10 11 12 13 14 15      13 14 15 16 17 18 19\n",
      "19 20 21 22 23 24 25      16 17 18 19 20 21 22      20 21 22 23 24 25 26\n",
      "26 27 28 29 30 31         23 24 25 26 27 28 29      27 28 29 30\n",
      "                          30 31\n",
      "\n",
      "      October                   November                  December\n",
      "Mo Tu We Th Fr Sa Su      Mo Tu We Th Fr Sa Su      Mo Tu We Th Fr Sa Su\n",
      "             1  2  3       1  2  3  4  5  6  7             1  2  3  4  5\n",
      " 4  5  6  7  8  9 10       8  9 10 11 12 13 14       6  7  8  9 10 11 12\n",
      "11 12 13 14 15 16 17      15 16 17 18 19 20 21      13 14 15 16 17 18 19\n",
      "18 19 20 21 22 23 24      22 23 24 25 26 27 28      20 21 22 23 24 25 26\n",
      "25 26 27 28 29 30 31      29 30                     27 28 29 30 31\n",
      "\n"
     ]
    }
   ],
   "source": [
    "print(calendar.calendar(2021)) # To check the whole months of year"
   ]
  },
  {
   "cell_type": "code",
   "execution_count": 36,
   "id": "4bc209ea",
   "metadata": {},
   "outputs": [
    {
     "data": {
      "text/plain": [
       "2"
      ]
     },
     "execution_count": 36,
     "metadata": {},
     "output_type": "execute_result"
    }
   ],
   "source": [
    "calendar.weekday(2021,12,29)"
   ]
  },
  {
   "cell_type": "code",
   "execution_count": 32,
   "id": "476c2662",
   "metadata": {},
   "outputs": [
    {
     "data": {
      "text/plain": [
       "True"
      ]
     },
     "execution_count": 32,
     "metadata": {},
     "output_type": "execute_result"
    }
   ],
   "source": [
    "calendar.isleap(2000)  # to check the leap year"
   ]
  },
  {
   "cell_type": "code",
   "execution_count": 33,
   "id": "199e9e07",
   "metadata": {},
   "outputs": [
    {
     "data": {
      "text/plain": [
       "False"
      ]
     },
     "execution_count": 33,
     "metadata": {},
     "output_type": "execute_result"
    }
   ],
   "source": [
    "calendar.isleap(2021) "
   ]
  },
  {
   "cell_type": "code",
   "execution_count": 35,
   "id": "53f87321",
   "metadata": {},
   "outputs": [
    {
     "data": {
      "text/plain": [
       "2"
      ]
     },
     "execution_count": 35,
     "metadata": {},
     "output_type": "execute_result"
    }
   ],
   "source": [
    "calendar.leapdays(2015,2021) # to check the leap year from month to month"
   ]
  },
  {
   "cell_type": "code",
   "execution_count": null,
   "id": "1eb11cc7",
   "metadata": {},
   "outputs": [],
   "source": []
  }
 ],
 "metadata": {
  "kernelspec": {
   "display_name": "Python 3",
   "language": "python",
   "name": "python3"
  },
  "language_info": {
   "codemirror_mode": {
    "name": "ipython",
    "version": 3
   },
   "file_extension": ".py",
   "mimetype": "text/x-python",
   "name": "python",
   "nbconvert_exporter": "python",
   "pygments_lexer": "ipython3",
   "version": "3.8.8"
  }
 },
 "nbformat": 4,
 "nbformat_minor": 5
}
